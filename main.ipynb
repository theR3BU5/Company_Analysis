{
 "cells": [
  {
   "cell_type": "code",
   "execution_count": 116,
   "metadata": {},
   "outputs": [],
   "source": [
    "import pandas as pd\n",
    "import seaborn as sns\n",
    "import matplotlib.pyplot as plt\n",
    "%matplotlib inline\n",
    "import numpy as np\n",
    "import functions as f\n",
    "#x = np.random.normal(170, 10, 250)"
   ]
  },
  {
   "cell_type": "code",
   "execution_count": 117,
   "metadata": {},
   "outputs": [],
   "source": [
    "#cake_df = np.genfromtxt(\"CAKE.csv\", delimiter=\",\")\n",
    "#cbrl_df = np.genfromtxt(\"CBRL.csv\", delimiter=\",\")\n",
    "cake_df = pd.read_csv('CAKE.csv')\n",
    "cbrl_df = pd.read_csv('CBRL.csv')"
   ]
  },
  {
   "cell_type": "code",
   "execution_count": 118,
   "metadata": {},
   "outputs": [
    {
     "name": "stdout",
     "output_type": "stream",
     "text": [
      "         Date       Open       High        Low      Close  Adj Close   Volume\n",
      "0  2018-05-21  50.730000  51.299999  50.369999  51.000000  46.711166  1059700\n",
      "1  2018-05-22  51.020000  51.439999  50.450001  50.490002  46.244057   627000\n",
      "2  2018-05-23  50.220001  50.650002  49.639999  50.299999  46.070034   852700\n",
      "3  2018-05-24  50.299999  51.150002  50.180000  50.759998  46.491356   752500\n",
      "4  2018-05-25  50.709999  51.910000  49.639999  51.330002  47.013416   760600\n",
      "\n",
      "\n",
      "         Date        Open        High         Low       Close   Adj Close   \n",
      "0  2018-05-21  155.850006  160.460007  155.850006  158.830002  128.596176  \\\n",
      "1  2018-05-22  157.750000  162.880005  156.100006  157.419998  127.454575   \n",
      "2  2018-05-23  157.500000  159.320007  155.199997  158.860001  128.620483   \n",
      "3  2018-05-24  158.889999  163.580002  158.889999  161.059998  130.401703   \n",
      "4  2018-05-25  160.839996  164.229996  159.839996  159.919998  129.478668   \n",
      "\n",
      "    Volume  \n",
      "0   588300  \n",
      "1  1182900  \n",
      "2   437100  \n",
      "3   434500  \n",
      "4   364800  \n"
     ]
    }
   ],
   "source": [
    "print(cake_df.head())\n",
    "print('\\n')\n",
    "print(cbrl_df.head())"
   ]
  },
  {
   "cell_type": "code",
   "execution_count": 119,
   "metadata": {},
   "outputs": [
    {
     "data": {
      "text/plain": [
       "\"\\npurchase_price = df.iloc[0]['Close']  # Purchase price is the closing price of the first day\\nselling_price = df.iloc[-1]['Close']  # Selling price is the closing price of the last day\\n\\nnet_profit = selling_price - purchase_price\\n\""
      ]
     },
     "execution_count": 119,
     "metadata": {},
     "output_type": "execute_result"
    }
   ],
   "source": [
    "cake_adj = cake_df['Adj Close']\n",
    "\n",
    "cake_init: float = cake_adj.iloc[0]\n",
    "cake_final: float = cake_adj.iloc[-1]\n",
    "\n",
    "\n",
    "\n",
    "\n",
    "cbrl_adj = cbrl_df['Adj Close']\n",
    "\n",
    "cbrl_init: float = cbrl_adj.iloc[0]\n",
    "cbrl_final: float = cbrl_adj.iloc[-1]\n",
    "\n",
    "\"\"\"\n",
    "purchase_price = df.iloc[0]['Close']  # Purchase price is the closing price of the first day\n",
    "selling_price = df.iloc[-1]['Close']  # Selling price is the closing price of the last day\n",
    "\n",
    "net_profit = selling_price - purchase_price\n",
    "\"\"\""
   ]
  },
  {
   "cell_type": "code",
   "execution_count": 120,
   "metadata": {},
   "outputs": [
    {
     "name": "stdout",
     "output_type": "stream",
     "text": [
      "CAKE Mean: 38.58\n",
      "CBRL Mean: 122.10\n"
     ]
    }
   ],
   "source": [
    "print(f'CAKE Mean: {cake_adj.mean():.2f}')\n",
    "print(f'CBRL Mean: {cbrl_adj.mean():.2f}')"
   ]
  },
  {
   "cell_type": "code",
   "execution_count": 121,
   "metadata": {},
   "outputs": [
    {
     "name": "stdout",
     "output_type": "stream",
     "text": [
      "CAKE RoR: -26.142\n",
      "CAKE RoI: \n",
      "\n",
      "\n",
      "CBRL RoR: -12.937\n",
      "CBRL RoI: \n"
     ]
    }
   ],
   "source": [
    "#Simple ROR, CAGR, ROI, ROE\n",
    "print(f'CAKE RoR: {simple_ror(cake_init, cake_final): .3f}')\n",
    "print(f'CAKE CAGR: ')\n",
    "print(f'CAKE RoI: ')\n",
    "print(f'CAKE RoE: ')\n",
    "\n",
    "print('\\n')\n",
    "\n",
    "print(f'CBRL RoR: {simple_ror(cbrl_init, cbrl_final): .3f}')\n",
    "print(f'CBRL CAGR: ')\n",
    "print(f'CBRL RoI: ')\n",
    "print(f'CBRL RoE: ')"
   ]
  }
 ],
 "metadata": {
  "kernelspec": {
   "display_name": "ipykern",
   "language": "python",
   "name": "ipykern"
  },
  "language_info": {
   "codemirror_mode": {
    "name": "ipython",
    "version": 3
   },
   "file_extension": ".py",
   "mimetype": "text/x-python",
   "name": "python",
   "nbconvert_exporter": "python",
   "pygments_lexer": "ipython3",
   "version": "3.10.8"
  },
  "orig_nbformat": 4
 },
 "nbformat": 4,
 "nbformat_minor": 2
}
